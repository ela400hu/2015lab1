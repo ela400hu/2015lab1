{
 "cells": [
  {
   "cell_type": "markdown",
   "metadata": {},
   "source": [
    "# Homework 0"
   ]
  },
  {
   "cell_type": "markdown",
   "metadata": {},
   "source": [
    "##Survey due 4th September, 2015"
   ]
  },
  {
   "cell_type": "markdown",
   "metadata": {},
   "source": [
    "##Submission due 10th September, 2015"
   ]
  },
  {
   "cell_type": "markdown",
   "metadata": {},
   "source": [
    "---\n",
    "\n",
    "Welcome to CS109 / STAT121 / AC209 / E-109 (http://cs109.org/).  In this class, we will be using a variety of tools that will require some initial configuration. To ensure everything goes smoothly moving forward, we will setup the majority of those tools in this homework. **It is very important that you do this setup as soon as possible**. While some of this will likely be dull, doing it now will enable us to do more exciting work in the weeks that follow without getting bogged down in further software configuration. You will also be filling out a **mandatory class survey and creating a github and AWS account, which are mandatory as well**. \n",
    "\n",
    "Please note that the **survey is due on September 4th**. The reason is that we need your github account name to set you up for the homework submission system. If you do not submit the survey on time you might not be able to submit the homework in time.\n",
    "\n",
    "This homework will not be graded, however, you **must submit it**. Submission instructions, along with the github flow for homework, are at the end of this notebook. The practice you will get submitting this homework will be essential for the submission of the forthcoming homework notebooks and your project."
   ]
  },
  {
   "cell_type": "markdown",
   "metadata": {},
   "source": [
    "#Table of Contents\n",
    "* [Homework 0](#Homework-0)\n",
    "\t* [Survey due 4th September, 2015](#Survey-due-4th-September,-2015)\n",
    "\t* [Submission due 10th September, 2015](#Submission-due-10th-September,-2015)\n",
    "\t* [First Things](#First-Things)\n",
    "\t\t* [1. Create your github account](#1.-Create-your-github-account)\n",
    "\t\t* [2. Class Survey](#2.-Class-Survey)\n",
    "\t\t* [3. Piazza](#3.-Piazza)\n",
    "\t\t* [4. Programming expectations](#4.-Programming-expectations)\n",
    "\t\t* [5. If you do not have a .edu email address](#5.-If-you-do-not-have-a-.edu-email-address)\n",
    "\t* [Getting and installing Python](#Getting-and-installing-Python)\n",
    "\t\t* [Installing Anaconda](#Installing-Anaconda)\n",
    "\t\t* [Mac/Linux users](#Mac/Linux-users)\n",
    "\t\t* [Windows Users](#Windows-Users)\n",
    "\t\t* [Troubleshooting](#Troubleshooting)\n",
    "\t* [Setting up your git environment](#Setting-up-your-git-environment)\n",
    "\t\t* [1. Installing git](#1.-Installing-git)\n",
    "\t\t\t* [Windows specific notes](#Windows-specific-notes)\n",
    "\t\t\t* [Mac specific notes](#Mac-specific-notes)\n",
    "\t\t* [2. Optional: Creating ssh keys on your machine](#2.-Optional:-Creating-ssh-keys-on-your-machine)\n",
    "\t\t* [3.  Optional: Uploading ssh keys and Authentication](#3.--Optional:-Uploading-ssh-keys-and-Authentication)\n",
    "\t\t* [4. Setting global config for git](#4.-Setting-global-config-for-git)\n",
    "\t\t* [5. Github tutorial](#5.-Github-tutorial)\n",
    "\t* [Sign up for AWS](#Sign-up-for-AWS)\n",
    "\t\t* [1. Get an AWS account](#1.-Get-an-AWS-account)\n",
    "\t\t* [2. Sign up for AWS educate](#2.-Sign-up-for-AWS-educate)\n",
    "\t* [Hello, Python](#Hello,-Python)\n",
    "\t* [Python Libraries](#Python-Libraries)\n",
    "\t\t* [Installing additional libraries](#Installing-additional-libraries)\n",
    "\t\t* [Testing latest libraries](#Testing-latest-libraries)\n",
    "\t* [Kicking the tires](#Kicking-the-tires)\n",
    "\t\t* [Hello World](#Hello-World)\n",
    "\t\t* [Hello matplotlib](#Hello-matplotlib)\n",
    "\t\t* [Hello Numpy](#Hello-Numpy)\n",
    "\t* [The Monty Hall Problem](#The-Monty-Hall-Problem)\n",
    "\t* [The workflow for homeworks and labs](#The-workflow-for-homeworks-and-labs)\n",
    "\t\t* [getting and working on labs](#getting-and-working-on-labs)\n",
    "\t\t* [getting and submitting homework](#getting-and-submitting-homework)\n"
   ]
  },
  {
   "cell_type": "markdown",
   "metadata": {},
   "source": [
    "##First Things"
   ]
  },
  {
   "cell_type": "markdown",
   "metadata": {},
   "source": [
    "I cant stress this enough: **Do this setup now!**\n",
    "\n",
    "These first things are incredibly important. You must absolutely fill these out to get into the swing of things..."
   ]
  },
  {
   "cell_type": "markdown",
   "metadata": {},
   "source": [
    "###1. Create your github account"
   ]
  },
  {
   "cell_type": "markdown",
   "metadata": {},
   "source": [
    "If you do not have a github account as yet, create it at:"
   ]
  },
  {
   "cell_type": "markdown",
   "metadata": {},
   "source": [
    "https://github.com\n",
    "\n",
    "This step is **mandatory**. We will need your github username. We are using github for all aspects of this course, including\n",
    "\n",
    "- doing and submitting homework\n",
    "- collaborating on your project\n",
    "- creating your web site"
   ]
  },
  {
   "cell_type": "markdown",
   "metadata": {},
   "source": [
    "To sign up for an account, just go to [github](https://github.com) and pick a unique username, an email address, and a password. Once you've done that, your github page will be at https://github.com/your-username.\n",
    "\n",
    "Github also provides a student [developer package](https://education.github.com/pack). This is something that might be nice to have, but it is not necessary for the course. Github may take some time to approve your application for the package. Please note that this is optional and you do not have to have the package approved to fill out the survey. "
   ]
  },
  {
   "cell_type": "markdown",
   "metadata": {},
   "source": [
    "###2. Class Survey"
   ]
  },
  {
   "cell_type": "markdown",
   "metadata": {},
   "source": [
    "Next, you **must complete the mandatory** course survey located [here](http://goo.gl/forms/bJwajS8zO8). It should only take a few moments of your time. Once you fill in the survey we will use the github username you provided to sign you up into the `cs109-students` organization on github. (see https://help.github.com/articles/how-do-i-access-my-organization-account/) It is imperative that you fill out the survey on time as we use the provided information to sign you in: your access to the homework depends on being in this organization. "
   ]
  },
  {
   "cell_type": "markdown",
   "metadata": {},
   "source": [
    "###3. Piazza"
   ]
  },
  {
   "cell_type": "markdown",
   "metadata": {},
   "source": [
    "Go to [Piazza](https://piazza.com/harvard/fall2015/cs109/home) and sign up for the class using your Harvard e-mail address. If you do not have a Harvard email address write an email to staff@cs109.org and one of the TFs will sign you up.\n",
    "\n",
    "You will use Piazza as a forum for discussion, to find team members, to arrange appointments, and to ask questions. Piazza should be your primary form of communication with the staff. Use the staff e-mail (staff@cs109.org) only for individual requests, e.g., to excuse yourself from mandatory sections. All announcements, homework, and project descriptions will be posted on Piazza first. \n",
    "\n",
    "**Introduction**\n",
    "\n",
    "Once you are signed up to the Piazza course forum, introduce yourself to your classmates and course staff with a follow-up post in the introduction thread. Include your name/nickname, your affiliation, why you are taking this course, and tell us something interesting about yourself (e.g., an industry job, an unusual hobby, past travels, or a cool project you did, etc.). Also tell us whether you have experience with data science."
   ]
  },
  {
   "cell_type": "markdown",
   "metadata": {},
   "source": [
    "###4. Programming expectations"
   ]
  },
  {
   "cell_type": "markdown",
   "metadata": {},
   "source": [
    "All the assignments and labs for this class will use Python and, for the most part, the browser-based IPython notebook format you are currently viewing. Knowledge of Python is not a prerequisite for this course, **provided you are comfortable learning on your own as needed**. While we have strived to make the programming component of this course straightforward, we will not devote much time to teaching prorgramming or Python syntax. Basically, you should feel comfortable with:\n",
    "\n",
    "* How to look up Python syntax on Google and StackOverflow.\n",
    "* Basic programming concepts like functions, loops, arrays, dictionaries, strings, and if statements.\n",
    "* How to learn new libraries by reading documentation.\n",
    "* Asking questions on StackOverflow or Piazza.\n",
    "\n",
    "There are many online tutorials to introduce you to scientific python programming. [Here is a course](https://github.com/jrjohansson/scientific-python-lectures) that is very nice. Lectures 1-4 of this course are most relevant to this class. While we will cover some python programming in labs 1 and 2, we expect you to pick it up on the fly. "
   ]
  },
  {
   "cell_type": "markdown",
   "metadata": {},
   "source": [
    "###5. If you do not have a .edu email address"
   ]
  },
  {
   "cell_type": "markdown",
   "metadata": {},
   "source": [
    "Please get one, as you will need it to sign up for AWS educate, and if you want to sign up for the student developer github package you will need it as well. As a DCE student you are eligible for a FAS account and you can sign up [here](http://www.extension.harvard.edu/resources-policies/resources/computer-e-mail-services)."
   ]
  },
  {
   "cell_type": "markdown",
   "metadata": {},
   "source": [
    "## Getting and installing Python"
   ]
  },
  {
   "cell_type": "markdown",
   "metadata": {},
   "source": [
    "You will be using Python throughout the course, including many popular 3rd party Python libraries for scientific computing. [Anaconda](http://continuum.io/downloads) is an easy-to-install bundle of Python and most of these libraries. We **strongly** recommend that you use Anaconda for this course. If you insist on using your own Python setup instead of Anaconda, we will not provide any installation support, and are not responsible for you loosing points on homework assignments in case of inconsistencies. \n",
    "\n",
    "For this course we are using **Python 2**, not **Python 3**.\n",
    "\n",
    "Also see: http://docs.continuum.io/anaconda/install\n",
    "\n",
    "The **IPython** or **Jupyter** notebook runs in the browser, and works best in Google Chrome or Safari for me. You probably want to use one of these for assignments in this course."
   ]
  },
  {
   "cell_type": "markdown",
   "metadata": {},
   "source": [
    "### Installing Anaconda"
   ]
  },
  {
   "cell_type": "markdown",
   "metadata": {},
   "source": [
    "The Anaconda Python distribution is an easily-installable bundle of Python and many of the libraries used throughout this class. Unless you have a good reason not to, we recommend that you use Anaconda."
   ]
  },
  {
   "cell_type": "markdown",
   "metadata": {},
   "source": [
    "### Mac/Linux users"
   ]
  },
  {
   "cell_type": "markdown",
   "metadata": {},
   "source": [
    "1. Download the [appropriate version](http://continuum.io/downloads) of Anaconda\n",
    "1. Follow the instructions on that page to run the installer\n",
    "1. Test out the IPython notebook: open a Terminal window, and type `ipython notebook`. Or use the Anaconda Launcher which might have been deposited on your desktop. A new browser window should pop up. \n",
    "1. Click `New Notebook` to create a new notebook file. **Trick**: give this notebook a unique name, like `my-little-rose`. Use Spotlight (upper right corner of the mac desktop, looks like a maginifier) to search for this name. In this way, you will know which folder your notebook opens in by default."
   ]
  },
  {
   "cell_type": "markdown",
   "metadata": {},
   "source": [
    "### Windows Users"
   ]
  },
  {
   "cell_type": "markdown",
   "metadata": {},
   "source": [
    "1. Download the [appropriate version](http://continuum.io/downloads) of Anaconda\n",
    "1. Follow the instructions on that page to run the installer. This will typically create a directory at `C:\\Anaconda`\n",
    "1. Test it out: start the Anaconda launcher, which you can find in `C:\\Anaconda` or, in the Start menu. Start the IPython notebook. A new browser window should open. \n",
    "1. Click `New Notebook`, which should open a new page. **Trick**: give this notebook a unique name, like `my-little-rose`. Use Explorer (usually start menu on windows desktops) to search for this name. In this way, you will know which folder your notebook opens in by default.\n",
    "\n",
    "If you did not add Anaconda to your path, be sure to use the full path to the python and ipython executables, such as `/anaconda/bin/python`.\n",
    "\n",
    "If you already have installed Anaconda at some point in the past, you can easily update to the latest Anaconda version by updating conda, then Anaconda as follows:\n",
    "\n",
    "```\n",
    "conda update conda\n",
    "conda update anaconda\n",
    "```"
   ]
  },
  {
   "cell_type": "markdown",
   "metadata": {},
   "source": [
    "###Troubleshooting"
   ]
  },
  {
   "cell_type": "markdown",
   "metadata": {},
   "source": [
    "You must be careful to make sure you are running the Anaconda version of python, since those operating systems come preinstalled with their own versions of python."
   ]
  },
  {
   "cell_type": "code",
   "execution_count": 1,
   "metadata": {
    "collapsed": false
   },
   "outputs": [
    {
     "name": "stdout",
     "output_type": "stream",
     "text": [
      "2.7.10 |Anaconda 2.2.0 (x86_64)| (default, May 28 2015, 17:04:42) \n",
      "[GCC 4.2.1 (Apple Inc. build 5577)]\n"
     ]
    }
   ],
   "source": [
    "import sys\n",
    "print sys.version"
   ]
  },
  {
   "cell_type": "markdown",
   "metadata": {},
   "source": [
    "**Problem**\n",
    "When you start python, you don't see a line like `Python 2.7.5 |Anaconda 1.6.1 (x86_64)|`. You are using a Mac or Linux computer\n",
    "\n",
    "**Reason**\n",
    "You are most likely running a different version of Python, and need to modify your Path (the list of directories your computer looks through to find programs). \n",
    "\n",
    "**Solution**\n",
    "Find a file like `.bash_profile`, `.bashrc`, or `.profile`. Open the file in a text editor, and add a line at this line at the end: `export PATH=\"$HOME/anaconda/bin:$PATH\"`. Close the file, open a new terminal window, type `source ~/.profile` (or whatever file you just edited). Type `which python` -- you should see a path that points to the anaconda directory. If so, running `python` should load the proper version\n",
    "\n",
    "If this doesn't work (typing `which python` doesn't point to anaconda), you might be using a different shell. Type `echo $SHELL`. If this isn't `bash`, you need to edit a different startup file (for example, if if `echo $SHELL` gives `$csh`, you need to edit your `.cshrc` file. The syntax for this file is slightly different: `set PATH = ($HOME/anaconda/bin $PATH)`\n",
    "***\n",
    "\n",
    "**Problem**\n",
    "You are running the right version of python (see above item), but are unable to import numpy. \n",
    "\n",
    "**Reason**\n",
    "You are probably loading a different copy of numpy that is incompatible with Anaconda\n",
    "\n",
    "**Solution**\n",
    "See the above item to find your `.bash_profile`, `.profile`, or `.bashrc` file. Open it, and add the line `unset PYTHONPATH` at the end. Close the file, open a new terminal window, type `source ~/.profile` (or whatever file you just edited), and try again.\n",
    "***\n",
    "\n",
    "**Problem**\n",
    "Under Windows, you receive an error message similar to the following: \"'pip' is not recognized as an internal or external command, operable program or batch file.\"\n",
    "\n",
    "**Reason**\n",
    "The correct Anaconda paths might not be present in your PATH variable, or Anaconda might not have installed correctly.\n",
    "\n",
    "**Solution**\n",
    "Ensure the Anaconda directories to your path environment variable (\"\\Anaconda\" and \"\\Anaconda\\Scripts\").  See [this page](http://superuser.com/questions/284342/what-are-path-and-other-environment-variables-and-how-can-i-set-or-use-them) for details.\n",
    "\n",
    "If this does not correct the problem, reinstall Anaconda.\n",
    "\n",
    "\n",
    "**IF YOU ARE STILL HAVING ISSUES ON THE INSTALL, POST TO PIAZZA. WE'LL HELP YOU THERE. OR ASK IN YOUR SECTION**"
   ]
  },
  {
   "cell_type": "markdown",
   "metadata": {},
   "source": [
    "##Setting up your git environment"
   ]
  },
  {
   "cell_type": "markdown",
   "metadata": {},
   "source": [
    "###1. Installing git"
   ]
  },
  {
   "cell_type": "markdown",
   "metadata": {},
   "source": [
    "We will be using the command line version of git.\n",
    "\n",
    "On linux, install git using your system package manager (yum, apt-get, etc)\n",
    "\n",
    "On the Mac, if you ever installed Xcode, you should have git installed. Or you might have installed it using `homebrew`. Either of these are fine as long as the git version is greater than 2.0\n",
    "\n",
    "Otherwise, on Mac and Windows, go to http://git-scm.com. Accept all defaults in the installation process. On Windows, installing git will also install for you a minimal unix environment with a \"bash\" shell and terminal window. Voila, your windows computer is transformed into a unixy form."
   ]
  },
  {
   "cell_type": "markdown",
   "metadata": {},
   "source": [
    "####Windows specific notes"
   ]
  },
  {
   "cell_type": "markdown",
   "metadata": {},
   "source": [
    "There will be an installer `.exe` file you need to click. Accept all the defaults.\n",
    "\n",
    "Here is a screenshot from one of the defaults. It makes sure you will have the \"bash\" tool talked about earlier.\n",
    "![use git bash](wgi-git-bash.png)\n",
    "\n",
    "Choose the default line-encoding conversion:\n",
    "![default lines](wgi-defaultlines.png)\n",
    "\n",
    "Use the terminal emulator they provide, its better than the one shipped with windows.\n",
    "![use mintty](wgi-usemintty.png)\n",
    "\n",
    "Towards the end, you might see a message like this. It looks scary, but all you need to do is click \"Continue\"\n",
    "![scary message](wgi-scarymessage.png)\n",
    "\n",
    "\n",
    "At this point you will be installed. You can bring up \"git bash\" either from your start menu, or from the right click menu on any folder background. When you do so, a terminal window will open. This terminal is where you will issue further git setup commands, and git commands in general.\n",
    "\n",
    "Get familiar with the terminal. It opens in your home folder, and maps `\\\\` paths on windows to more web/unix like paths with '/'. Try issuing the commands `ls`, `pwd`, and `cd folder` where folder is one of the folders you see when you do a ls. You can do a `cd ..` to come back up.\n",
    "\n",
    "You can also use the terminal which comes with the ipython notebook. More about that later."
   ]
  },
  {
   "cell_type": "markdown",
   "metadata": {},
   "source": [
    "####Mac specific notes"
   ]
  },
  {
   "cell_type": "markdown",
   "metadata": {},
   "source": [
    "As mentioned earlier, if you ever installed Xcode or the \"Command Line Developer tools\", you may already have git.\n",
    "Make sure its version 2.0 or higher. (`git --version`)\n",
    "\n",
    "Or if you use **Homebrew**, you can install it from there. The current version on homebrew is 2.4.3\n",
    " You dont need to do anyting more in this section.\n",
    "\n",
    "-----\n",
    "\n",
    "First click on the `.mpkg` file that comes when you open the downloaded `.dmg` file.\n",
    "\n",
    "When I tried to install git on my mac, I got a warning saying my security preferences wouldnt allow it to be installed. So I opened my system preferences and went to \"Security\".\n",
    "\n",
    "![system pref](mac-git-security.png)\n",
    "\n",
    "Here you must click \"Open Anyway\", and the installer will run.\n",
    "\n",
    "The installer puts git as `/usr/local/git/bin/git`. Thats not a particularly useful spot. Open up `Terminal.app`.Its usually in `/Applications/Utilities`. Once the terminal opens up, issue\n",
    "\n",
    "`sudo ln -s /usr/local/git/bin/git /usr/local/bin/git`."
   ]
  },
  {
   "cell_type": "markdown",
   "metadata": {},
   "source": [
    "Keep the Terminal application handy in your dock. (You could also download and use iTerm.app, which is a nicer terminal, if you are into terminal geekery). We'll be using the terminal extensively for git. You can also use the terminal which comes with the ipython notebook. More about that later.\n",
    "\n",
    "Try issuing the commands `ls`, `pwd`, and `cd folder` where folder is one of the folders you see when you do a ls. You can do a `cd ..` to come back up."
   ]
  },
  {
   "cell_type": "markdown",
   "metadata": {},
   "source": [
    "###2. Optional: Creating ssh keys on your machine"
   ]
  },
  {
   "cell_type": "markdown",
   "metadata": {},
   "source": [
    "This ia an optional step. But it makes things much easier.\n",
    "\n",
    "There are two ways git talks to github: https, which is a web based protocol\n",
    "\n",
    "![github https](github-https-clone.png)\n",
    "\n",
    "or over ssh\n",
    "\n",
    "![github ssh](github-ssh-clone.png)\n",
    "\n",
    "Which one you use is your choice. I recommend ssh, and the github urls in this homework and in labs will be ssh urls.\n",
    "Every time you contact your upstream repository (hosted on github), you need to prove you're you. You *can* do this with passwords over HTTPS, but it gets old quickly. By providing an ssh public key to github, your ssh-agent will handle all of that for you, and you wont have to put in any passwords.\n",
    "\n",
    "At your terminal, issue the command (skip this if you are a seasoned ssh user and already have keys):\n",
    "\n",
    "`ssh-keygen -t rsa`\n",
    "\n",
    "It will look like this:\n",
    "![github ssh keygen](sshkeygen.png)\n",
    "\n",
    "Accept the defaults. When it asks for a passphrase for your keys, put in none. (you can put in one if you know how to set up a ssh-agent).\n",
    "\n",
    "This will create two files for you, in your home folder if you accepted the defaults."
   ]
  },
  {
   "cell_type": "raw",
   "metadata": {},
   "source": [
    "➜  ~  ls .ssh/id_rsa*\n",
    ".ssh/id_rsa     .ssh/id_rsa.pub"
   ]
  },
  {
   "cell_type": "markdown",
   "metadata": {},
   "source": [
    "`id_rsa` is your PRIVATE key. NEVER NEVER NEVER give that to anyone. `id_rsa.pub` is your public key. You must supply this to github."
   ]
  },
  {
   "cell_type": "markdown",
   "metadata": {},
   "source": [
    "----"
   ]
  },
  {
   "cell_type": "markdown",
   "metadata": {},
   "source": [
    "###3.  Optional: Uploading ssh keys and Authentication"
   ]
  },
  {
   "cell_type": "markdown",
   "metadata": {},
   "source": [
    "To upload an ssh key, log in to github and click on the gear icon in the top right corner (settings). Once you're there, click on \"SSH keys\" on the left. This page will contain all your ssh keys once you upload any.\n",
    "\n",
    "Click on \"add ssh key\" in the top right. You should see this box:\n",
    "\n",
    "<img src=\"github_ssh.png\" alt=\"github ssh\" style=\"width: 500px;\"/>\n",
    "\n",
    "The title field should be the name of your computer or some other way to identify this particular ssh key.\n",
    "\n",
    "In the key field, you'll need to copy and paste your *public* key. **Do not paste your private ssh key here.**\n",
    "\n",
    "When you hit \"Add key\", you should see the key name and some hexadecimal characters show up in the list. You're set.\n",
    "\n",
    "Now, whenever you clone a repository using this form:\n",
    "\n",
    "`$ git clone git@github.com:rdadolf/ac297r-git-demo.git`,\n",
    "\n",
    "you'll be connecting over ssh, and will not be asked for your github password\n",
    "\n",
    "You will need to repeat steps 2 and 3 of the setup for each computer you wish to use with github."
   ]
  },
  {
   "cell_type": "markdown",
   "metadata": {},
   "source": [
    "###4. Setting global config for git"
   ]
  },
  {
   "cell_type": "markdown",
   "metadata": {},
   "source": [
    "Again, from the terminal, issue the command\n",
    "\n",
    "`git config --global user.name \"YOUR NAME\"`\n",
    "\n",
    "This sets up a name for you. Then do\n",
    "\n",
    "`git config --global user.email \"YOUR EMAIL ADDRESS\"`\n",
    "\n",
    "Use the **SAME** email address you used in setting up your github account.\n",
    "\n",
    "These commands set up your global configuration. On my Mac, these are stored in the text file `.gitconfig` in my home folder."
   ]
  },
  {
   "cell_type": "markdown",
   "metadata": {},
   "source": [
    "###5. Github tutorial"
   ]
  },
  {
   "cell_type": "markdown",
   "metadata": {},
   "source": [
    "Read our git and github tutorial from [Lab 1](https://github.com/cs109/2015lab1/blob/master/Lab1-git.ipynb). Then come back here.\n",
    "\n",
    "If you have any issues or questions: Ask us! On Piazza or in Sections!"
   ]
  },
  {
   "cell_type": "markdown",
   "metadata": {},
   "source": [
    "---"
   ]
  },
  {
   "cell_type": "markdown",
   "metadata": {},
   "source": [
    "## Sign up for AWS"
   ]
  },
  {
   "cell_type": "markdown",
   "metadata": {},
   "source": [
    "For the course you need to sign up for Amazon Web Services (AWS). \n",
    "\n",
    "- The sign up process has two steps:\n",
    "    1. Get an AWS account\n",
    "    2. Sign up for AWS educate\n",
    "\n",
    "The AWS account will enable you to access Amazon's webservices. The AWS educate sign up will provide you with $100 worth of free credits."
   ]
  },
  {
   "cell_type": "markdown",
   "metadata": {},
   "source": [
    "### 1. Get an AWS account"
   ]
  },
  {
   "cell_type": "markdown",
   "metadata": {},
   "source": [
    "Note: You can skip this step if you already have an account. \n",
    "\n",
    "- Go to [this webpage](https://aws.amazon.com/education/awseducate/apply/)\n",
    "- Click on the yellow box in the upper right corner saying \"Create an AWS account\"\n",
    "- Follow the normal instructions and fill in all necessary information to create your account.\n",
    "\n",
    "Once you have an account you need your account ID. The account ID is a 12 digit number. \n",
    "Please follow [this description](http://docs.aws.amazon.com/IAM/latest/UserGuide/console_account-alias.html) to find your ID in the Support menu of your AWS console."
   ]
  },
  {
   "cell_type": "markdown",
   "metadata": {},
   "source": [
    "### 2. Sign up for AWS educate"
   ]
  },
  {
   "cell_type": "markdown",
   "metadata": {},
   "source": [
    "Note: You will need your 12 digit AWS account ID for this step.\n",
    "\n",
    "- Go to [this webpage](https://aws.amazon.com/education/awseducate/apply/)\n",
    "- Click on the right on the button saying \"Apply for AWS Educate for Students\"\n",
    "- Confirm that you are a student\n",
    "- Fill out the form\n",
    "- **Note that that you provide should come from your institution, which means it should end in .edu** \n",
    "- It might take a few days for your request to be approved. \n",
    "\n",
    "Once again, ping us if you need help!"
   ]
  },
  {
   "cell_type": "markdown",
   "metadata": {},
   "source": [
    "## Hello, Python"
   ]
  },
  {
   "cell_type": "markdown",
   "metadata": {},
   "source": [
    "The IPython/Jupyter notebook is an application to build interactive computational notebooks. You'll be using them to complete labs and homework. Once you've set up Python, please download this page, and open it with IPython by typing\n",
    "\n",
    "```\n",
    "ipython notebook <name_of_downloaded_file>\n",
    "```"
   ]
  },
  {
   "cell_type": "markdown",
   "metadata": {},
   "source": [
    "You can also open the notebook in any folder by `cd`ing to the folder in the terminal, and typing\n",
    "\n",
    "```\n",
    "ipython notebook .\n",
    "```"
   ]
  },
  {
   "cell_type": "markdown",
   "metadata": {},
   "source": [
    "in that folder.\n",
    "\n",
    "The anaconda install also probably dropped a launcher on your desktop. You can use the launcher, and select \"ipython notebbok\" or \"jupyter notebook\" from there. In this case you will need to find out which folder you are running in.\n",
    "\n",
    "It loolks like this for me:\n",
    "\n",
    "![jupyter](jupyter.png)\n",
    "\n",
    "Notice that you can use the user interface to create new folders and text files, and even open new terminals, all of which might come useful to you. To create a new notebook, you can use \"Python 2\" under notebooks. You may not have the other choices available (I have julia for example, which is another language that uses the same notebook interface)."
   ]
  },
  {
   "cell_type": "markdown",
   "metadata": {},
   "source": [
    "For the rest of the assignment, use your local copy of this page, running on IPython.\n",
    "\n",
    "Notebooks are composed of many \"cells\", which can contain text (like this one), or code (like the one below). Double click on the cell below, and evaluate it by clicking the \"play\" button above, for by hitting shift + enter"
   ]
  },
  {
   "cell_type": "code",
   "execution_count": 2,
   "metadata": {
    "collapsed": false
   },
   "outputs": [
    {
     "name": "stdout",
     "output_type": "stream",
     "text": [
      "Item is  10\n",
      "Item is  20\n",
      "Item is  30\n",
      "Item is  40\n",
      "Item is  50\n"
     ]
    }
   ],
   "source": [
    "x = [10, 20, 30, 40, 50]\n",
    "for item in x:\n",
    "    print \"Item is \", item"
   ]
  },
  {
   "cell_type": "markdown",
   "metadata": {},
   "source": [
    "## Python Libraries"
   ]
  },
  {
   "cell_type": "markdown",
   "metadata": {},
   "source": [
    "###Installing additional libraries"
   ]
  },
  {
   "cell_type": "markdown",
   "metadata": {},
   "source": [
    "Anaconda includes most of the libraries we will use in this course, but you will need to install a few extra ones for the beginning of this course:\n",
    "\n",
    "1. [BeautifulSoup](http://www.crummy.com/software/BeautifulSoup/)\n",
    "1. [Seaborn](http://web.stanford.edu/~mwaskom/software/seaborn/)\n",
    "1. [PyQuery](https://pythonhosted.org/pyquery/)\n",
    "\n",
    "The recommended way to install these packages is to run \n",
    "\n",
    "`!pip install BeautifulSoup seaborn pyquery` \n",
    "\n",
    "in a code cell in the ipython notebook you just created. On windows, you might want to run `pip install BeautifulSoup seaborn pyquery` on the `git-bash.exe` terminal (note, the exclamation goes away).\n",
    "\n",
    "If this doesn't work, you can download the source code, and run `python setup.py install` from the source code directory. On Unix machines(Mac or Linux), either of these commands may require `sudo` (i.e. `sudo pip install...` or `sudo python`)"
   ]
  },
  {
   "cell_type": "markdown",
   "metadata": {},
   "source": [
    "If you've successfully completed the above install, all of the following statements should run."
   ]
  },
  {
   "cell_type": "markdown",
   "metadata": {},
   "source": [
    "###Testing latest libraries"
   ]
  },
  {
   "cell_type": "code",
   "execution_count": 3,
   "metadata": {
    "collapsed": false
   },
   "outputs": [
    {
     "name": "stdout",
     "output_type": "stream",
     "text": [
      "IPython version:       4.0.0 (need at least 3.0.0)\n",
      "Numpy version:         1.9.2 (need at least 1.9.1)\n",
      "SciPy version:        0.16.0 (need at least 0.15.1)\n",
      "Pandas version:       0.16.2 (need at least 0.16.2)\n",
      "Mapltolib version:     1.4.3 (need at least 1.4.1)\n",
      "Scikit-Learn version: 0.16.1 (need at least 0.16.1)\n",
      "requests version:      2.7.0 (need at least 2.0.0)\n",
      "BeautifulSoup version: 4.4.0 (need at least 4.4)\n",
      "Loaded PyQuery\n"
     ]
    }
   ],
   "source": [
    "#IPython is what you are using now to run the notebook\n",
    "import IPython\n",
    "print \"IPython version:      %6.6s (need at least 3.0.0)\" % IPython.__version__\n",
    "\n",
    "# Numpy is a library for working with Arrays\n",
    "import numpy as np\n",
    "print \"Numpy version:        %6.6s (need at least 1.9.1)\" % np.__version__\n",
    "\n",
    "# SciPy implements many different numerical algorithms\n",
    "import scipy as sp\n",
    "print \"SciPy version:        %6.6s (need at least 0.15.1)\" % sp.__version__\n",
    "\n",
    "# Pandas makes working with data tables easier\n",
    "import pandas as pd\n",
    "print \"Pandas version:       %6.6s (need at least 0.16.2)\" % pd.__version__\n",
    "\n",
    "# Module for plotting\n",
    "import matplotlib\n",
    "print \"Mapltolib version:    %6.6s (need at least 1.4.1)\" % matplotlib.__version__\n",
    "\n",
    "# SciKit Learn implements several Machine Learning algorithms\n",
    "import sklearn\n",
    "print \"Scikit-Learn version: %6.6s (need at least 0.16.1)\" % sklearn.__version__\n",
    "\n",
    "# Requests is a library for getting data from the Web\n",
    "import requests\n",
    "print \"requests version:     %6.6s (need at least 2.0.0)\" % requests.__version__\n",
    "\n",
    "#BeautifulSoup is a library to parse HTML and XML documents\n",
    "import bs4\n",
    "print \"BeautifulSoup version:%6.6s (need at least 4.4)\" % bs4.__version__\n",
    "\n",
    "import pyquery\n",
    "print \"Loaded PyQuery\""
   ]
  },
  {
   "cell_type": "markdown",
   "metadata": {},
   "source": [
    "If any of these libraries are missing or out of date, you will need to install them and restart IPython."
   ]
  },
  {
   "cell_type": "markdown",
   "metadata": {},
   "source": [
    "##Kicking the tires"
   ]
  },
  {
   "cell_type": "markdown",
   "metadata": {},
   "source": [
    "Lets try some things, starting from very simple, to more complex."
   ]
  },
  {
   "cell_type": "markdown",
   "metadata": {},
   "source": [
    "### Hello World"
   ]
  },
  {
   "cell_type": "markdown",
   "metadata": {},
   "source": [
    "The following is the incantation we like to put at the beginning of every notebook. It loads most of the stuff we will regularly use."
   ]
  },
  {
   "cell_type": "code",
   "execution_count": 4,
   "metadata": {
    "collapsed": false
   },
   "outputs": [],
   "source": [
    "# The %... is an iPython thing, and is not part of the Python language.\n",
    "# In this case we're just telling the plotting library to draw things on\n",
    "# the notebook, instead of on a separate window.\n",
    "%matplotlib inline \n",
    "#this line above prepares IPython notebook for working with matplotlib\n",
    "\n",
    "# See all the \"as ...\" contructs? They're just aliasing the package names.\n",
    "# That way we can call methods like plt.plot() instead of matplotlib.pyplot.plot().\n",
    "\n",
    "import numpy as np # imports a fast numerical programming library\n",
    "import scipy as sp #imports stats functions, amongst other things\n",
    "import matplotlib as mpl # this actually imports matplotlib\n",
    "import matplotlib.cm as cm #allows us easy access to colormaps\n",
    "import matplotlib.pyplot as plt #sets up plotting under plt\n",
    "import pandas as pd #lets us handle data as dataframes\n",
    "#sets up pandas table display\n",
    "pd.set_option('display.width', 500)\n",
    "pd.set_option('display.max_columns', 100)\n",
    "pd.set_option('display.notebook_repr_html', True)\n",
    "import seaborn as sns #sets up styles and gives us more plotting options"
   ]
  },
  {
   "cell_type": "markdown",
   "metadata": {},
   "source": [
    "### Hello matplotlib"
   ]
  },
  {
   "cell_type": "markdown",
   "metadata": {},
   "source": [
    "The notebook integrates nicely with Matplotlib, the primary plotting package for python. This should embed a figure of a sine wave:"
   ]
  },
  {
   "cell_type": "code",
   "execution_count": 5,
   "metadata": {
    "collapsed": false
   },
   "outputs": [
    {
     "data": {
      "text/plain": [
       "<matplotlib.text.Text at 0x108d5da90>"
      ]
     },
     "execution_count": 5,
     "metadata": {},
     "output_type": "execute_result"
    },
    {
     "data": {
      "image/png": "[encoded data removed]",
      "text/plain": [
       "<matplotlib.figure.Figure at 0x108cc7950>"
      ]
     },
     "metadata": {},
     "output_type": "display_data"
    }
   ],
   "source": [
    "x = np.linspace(0, 10, 30)  #array of 30 points from 0 to 10\n",
    "y = np.sin(x)\n",
    "z = y + np.random.normal(size=30) * .2\n",
    "plt.plot(x, y, 'o-', label='A sine wave')\n",
    "plt.plot(x, z, '-', label='Noisy sine')\n",
    "plt.legend(loc = 'lower right')\n",
    "plt.xlabel(\"X axis\")\n",
    "plt.ylabel(\"Y axis\")           "
   ]
  },
  {
   "cell_type": "markdown",
   "metadata": {},
   "source": [
    "If that last cell complained about the `%matplotlib` line, you need to update IPython to v1.0, and restart the notebook. See the [installation page](https://github.com/cs109/content/wiki/Installing-Python)"
   ]
  },
  {
   "cell_type": "markdown",
   "metadata": {},
   "source": [
    "### Hello Numpy"
   ]
  },
  {
   "cell_type": "markdown",
   "metadata": {},
   "source": [
    "The Numpy array processing library is the basis of nearly all numerical computing in Python. Here's a 30 second crash course. For more details, consult Chapter 4 of Python for Data Analysis, or the [Numpy User's Guide](http://docs.scipy.org/doc/numpy-dev/user/index.html)"
   ]
  },
  {
   "cell_type": "code",
   "execution_count": 6,
   "metadata": {
    "collapsed": false
   },
   "outputs": [
    {
     "name": "stdout",
     "output_type": "stream",
     "text": [
      "Make a 3 row x 4 column array of random numbers\n",
      "[[ 0.42573901  0.91612336  0.381863    0.3114121 ]\n",
      " [ 0.08660464  0.05084674  0.17138771  0.71587176]\n",
      " [ 0.75860593  0.07082291  0.57780972  0.60706285]]\n",
      "\n",
      "Add 1 to every element\n",
      "[[ 1.42573901  1.91612336  1.381863    1.3114121 ]\n",
      " [ 1.08660464  1.05084674  1.17138771  1.71587176]\n",
      " [ 1.75860593  1.07082291  1.57780972  1.60706285]]\n",
      "\n",
      "Get the element at row 1, column 2\n",
      "1.17138771444\n",
      "\n",
      "Get the first row\n",
      "[ 1.42573901  1.91612336  1.381863    1.3114121 ]\n",
      "\n",
      "Get every 2nd column of the first row\n",
      "[ 1.42573901  1.381863  ]\n",
      "\n"
     ]
    }
   ],
   "source": [
    "print \"Make a 3 row x 4 column array of random numbers\"\n",
    "x = np.random.random((3, 4))\n",
    "print x\n",
    "print\n",
    "\n",
    "print \"Add 1 to every element\"\n",
    "x = x + 1\n",
    "print x\n",
    "print\n",
    "\n",
    "print \"Get the element at row 1, column 2\"\n",
    "print x[1, 2]\n",
    "print\n",
    "\n",
    "# The colon syntax is called \"slicing\" the array. \n",
    "print \"Get the first row\"\n",
    "print x[0, :]\n",
    "print\n",
    "\n",
    "print \"Get every 2nd column of the first row\"\n",
    "print x[0, ::2]\n",
    "print"
   ]
  },
  {
   "cell_type": "markdown",
   "metadata": {},
   "source": [
    "Print the maximum, minimum, and mean of the array. This does **not** require writing a loop. In the code cell below, type `x.m<TAB>`, to find built-in operations for common array statistics like this"
   ]
  },
  {
   "cell_type": "code",
   "execution_count": 7,
   "metadata": {
    "collapsed": false
   },
   "outputs": [
    {
     "name": "stdout",
     "output_type": "stream",
     "text": [
      "Max is   1.91612335784\n",
      "Min is   1.05084674185\n",
      "Mean is  1.42284581135\n"
     ]
    }
   ],
   "source": [
    "print \"Max is  \", x.max()\n",
    "print \"Min is  \", x.min()\n",
    "print \"Mean is \", x.mean()"
   ]
  },
  {
   "cell_type": "markdown",
   "metadata": {},
   "source": [
    "Call the `x.max` function again, but use the `axis` keyword to print the maximum of each row in x."
   ]
  },
  {
   "cell_type": "code",
   "execution_count": 8,
   "metadata": {
    "collapsed": false
   },
   "outputs": [
    {
     "name": "stdout",
     "output_type": "stream",
     "text": [
      "[ 1.91612336  1.71587176  1.75860593]\n"
     ]
    }
   ],
   "source": [
    "print x.max(axis=1)"
   ]
  },
  {
   "cell_type": "markdown",
   "metadata": {},
   "source": [
    "Here's a way to quickly simulate 500 coin \"fair\" coin tosses (where the probabily of getting Heads is 50%, or 0.5)"
   ]
  },
  {
   "cell_type": "code",
   "execution_count": 9,
   "metadata": {
    "collapsed": false
   },
   "outputs": [
    {
     "name": "stdout",
     "output_type": "stream",
     "text": [
      "number of heads: 257\n"
     ]
    }
   ],
   "source": [
    "x = np.random.binomial(500, .5)\n",
    "print \"number of heads:\", x"
   ]
  },
  {
   "cell_type": "markdown",
   "metadata": {},
   "source": [
    "Repeat this simulation 500 times, and use the [plt.hist() function](http://matplotlib.org/api/pyplot_api.html#matplotlib.pyplot.hist) to plot a histogram of the number of Heads (1s) in each simulation"
   ]
  },
  {
   "cell_type": "code",
   "execution_count": 10,
   "metadata": {
    "collapsed": false
   },
   "outputs": [
    {
     "data": {
      "image/png": "[encoded data removed]",
      "text/plain": [
       "<matplotlib.figure.Figure at 0x103529850>"
      ]
     },
     "metadata": {},
     "output_type": "display_data"
    }
   ],
   "source": [
    "\n",
    "# 3 ways to run the simulations\n",
    "\n",
    "# loop\n",
    "heads = []\n",
    "for i in range(500):\n",
    "    heads.append(np.random.binomial(500, .5))\n",
    "\n",
    "# \"list comprehension\"\n",
    "heads = [np.random.binomial(500, .5) for i in range(500)]\n",
    "\n",
    "# pure numpy\n",
    "heads = np.random.binomial(500, .5, size=500)\n",
    "\n",
    "histogram = plt.hist(heads, bins=10)"
   ]
  },
  {
   "cell_type": "code",
   "execution_count": 11,
   "metadata": {
    "collapsed": false
   },
   "outputs": [
    {
     "data": {
      "text/plain": [
       "(500,)"
      ]
     },
     "execution_count": 11,
     "metadata": {},
     "output_type": "execute_result"
    }
   ],
   "source": [
    "heads.shape"
   ]
  },
  {
   "cell_type": "markdown",
   "metadata": {},
   "source": [
    "## The Monty Hall Problem"
   ]
  },
  {
   "cell_type": "markdown",
   "metadata": {},
   "source": [
    "Here's a fun and perhaps surprising statistical riddle, and a good way to get some practice writing python functions\n",
    "\n",
    "In a gameshow, contestants try to guess which of 3 closed doors contain a cash prize (goats are behind the other two doors). Of course, the odds of choosing the correct door are 1 in 3. As a twist, the host of the show occasionally opens a door after a contestant makes his or her choice. This door is always one of the two the contestant did not pick, and is also always one of the goat doors (note that it is always possible to do this, since there are two goat doors). At this point, the contestant has the option of keeping his or her original choice, or swtiching to the other unopened door. The question is: is there any benefit to switching doors? The answer surprises many people who haven't heard the question before.\n",
    "\n",
    "We can answer the problem by running simulations in Python. We'll do it in several parts.\n",
    "\n",
    "First, write a function called `simulate_prizedoor`. This function will simulate the location of the prize in many games -- see the detailed specification below:"
   ]
  },
  {
   "cell_type": "code",
   "execution_count": 12,
   "metadata": {
    "collapsed": false
   },
   "outputs": [],
   "source": [
    "\"\"\"\n",
    "Function\n",
    "--------\n",
    "simulate_prizedoor\n",
    "\n",
    "Generate a random array of 0s, 1s, and 2s, representing\n",
    "hiding a prize between door 0, door 1, and door 2\n",
    "\n",
    "Parameters\n",
    "----------\n",
    "nsim : int\n",
    "    The number of simulations to run\n",
    "\n",
    "Returns\n",
    "-------\n",
    "sims : array\n",
    "    Random array of 0s, 1s, and 2s\n",
    "\n",
    "Example\n",
    "-------\n",
    ">>> print simulate_prizedoor(3)\n",
    "array([0, 0, 2])\n",
    "\"\"\"\n",
    "\n",
    "\n",
    "def simulate_prizedoor(nsim):\n",
    "    return np.random.randint(0, 3, (nsim))"
   ]
  },
  {
   "cell_type": "markdown",
   "metadata": {},
   "source": [
    "Next, write a function that simulates the contestant's guesses for `nsim` simulations. Call this function `simulate_guess`. The specs:"
   ]
  },
  {
   "cell_type": "code",
   "execution_count": 13,
   "metadata": {
    "collapsed": false
   },
   "outputs": [],
   "source": [
    "\"\"\"\n",
    "Function\n",
    "--------\n",
    "simulate_guess\n",
    "\n",
    "Return any strategy for guessing which door a prize is behind. This\n",
    "could be a random strategy, one that always guesses 2, whatever.\n",
    "\n",
    "Parameters\n",
    "----------\n",
    "nsim : int\n",
    "    The number of simulations to generate guesses for\n",
    "\n",
    "Returns\n",
    "-------\n",
    "guesses : array\n",
    "    An array of guesses. Each guess is a 0, 1, or 2\n",
    "\n",
    "Example\n",
    "-------\n",
    ">>> print simulate_guess(5)\n",
    "array([0, 0, 0, 0, 0])\n",
    "\"\"\"\n",
    "\n",
    "def simulate_guess(nsim):\n",
    "    return np.zeros(nsim, dtype=np.int)"
   ]
  },
  {
   "cell_type": "markdown",
   "metadata": {},
   "source": [
    "Next, write a function, `goat_door`, to simulate randomly revealing one of the goat doors that a contestant didn't pick."
   ]
  },
  {
   "cell_type": "code",
   "execution_count": 14,
   "metadata": {
    "collapsed": false
   },
   "outputs": [],
   "source": [
    "\"\"\"\n",
    "Function\n",
    "--------\n",
    "goat_door\n",
    "\n",
    "Simulate the opening of a \"goat door\" that doesn't contain the prize,\n",
    "and is different from the contestants guess\n",
    "\n",
    "Parameters\n",
    "----------\n",
    "prizedoors : array\n",
    "    The door that the prize is behind in each simulation\n",
    "guesses : array\n",
    "    THe door that the contestant guessed in each simulation\n",
    "\n",
    "Returns\n",
    "-------\n",
    "goats : array\n",
    "    The goat door that is opened for each simulation. Each item is 0, 1, or 2, and is different\n",
    "    from both prizedoors and guesses\n",
    "\n",
    "Examples\n",
    "--------\n",
    ">>> print goat_door(np.array([0, 1, 2]), np.array([1, 1, 1]))\n",
    ">>> array([2, 2, 0])\n",
    "\"\"\"\n",
    "\n",
    "def goat_door(prizedoors, guesses):\n",
    "    \n",
    "    #strategy: generate random answers, and\n",
    "    #keep updating until they satisfy the rule\n",
    "    #that they aren't a prizedoor or a guess\n",
    "    result = np.random.randint(0, 3, prizedoors.size)\n",
    "    while True:\n",
    "        bad = (result == prizedoors) | (result == guesses)\n",
    "        if not bad.any():\n",
    "            return result\n",
    "        result[bad] = np.random.randint(0, 3, bad.sum())"
   ]
  },
  {
   "cell_type": "markdown",
   "metadata": {},
   "source": [
    "Write a function, `switch_guess`, that represents the strategy of always switching a guess after the goat door is opened."
   ]
  },
  {
   "cell_type": "code",
   "execution_count": 15,
   "metadata": {
    "collapsed": false
   },
   "outputs": [],
   "source": [
    "\"\"\"\n",
    "Function\n",
    "--------\n",
    "switch_guess\n",
    "\n",
    "The strategy that always switches a guess after the goat door is opened\n",
    "\n",
    "Parameters\n",
    "----------\n",
    "guesses : array\n",
    "     Array of original guesses, for each simulation\n",
    "goatdoors : array\n",
    "     Array of revealed goat doors for each simulation\n",
    "\n",
    "Returns\n",
    "-------\n",
    "The new door after switching. Should be different from both guesses and goatdoors\n",
    "\n",
    "Examples\n",
    "--------\n",
    ">>> print switch_guess(np.array([0, 1, 2]), np.array([1, 2, 1]))\n",
    ">>> array([2, 0, 0])\n",
    "\"\"\"\n",
    "\n",
    "def switch_guess(guesses, goatdoors):\n",
    "    result = np.zeros(guesses.size)\n",
    "    switch = {(0, 1): 2, (0, 2): 1, (1, 0): 2, (1, 2): 1, (2, 0): 1, (2, 1): 0}\n",
    "    for i in [0, 1, 2]:\n",
    "        for j in [0, 1, 2]:\n",
    "            mask = (guesses == i) & (goatdoors == j)\n",
    "            if not mask.any():\n",
    "                continue\n",
    "            result = np.where(mask, np.ones_like(result) * switch[(i, j)], result)\n",
    "    return result"
   ]
  },
  {
   "cell_type": "markdown",
   "metadata": {},
   "source": [
    "Last function: write a `win_percentage` function that takes an array of `guesses` and `prizedoors`, and returns the percent of correct guesses"
   ]
  },
  {
   "cell_type": "code",
   "execution_count": 16,
   "metadata": {
    "collapsed": false
   },
   "outputs": [],
   "source": [
    "\"\"\"\n",
    "Function\n",
    "--------\n",
    "win_percentage\n",
    "\n",
    "Calculate the percent of times that a simulation of guesses is correct\n",
    "\n",
    "Parameters\n",
    "-----------\n",
    "guesses : array\n",
    "    Guesses for each simulation\n",
    "prizedoors : array\n",
    "    Location of prize for each simulation\n",
    "\n",
    "Returns\n",
    "--------\n",
    "percentage : number between 0 and 100\n",
    "    The win percentage\n",
    "\n",
    "Examples\n",
    "---------\n",
    ">>> print win_percentage(np.array([0, 1, 2]), np.array([0, 0, 0]))\n",
    "33.333\n",
    "\"\"\"\n",
    "\n",
    "def win_percentage(guesses, prizedoors):\n",
    "    return 100 * (guesses == prizedoors).mean()"
   ]
  },
  {
   "cell_type": "markdown",
   "metadata": {},
   "source": [
    "Now, put it together. Simulate 10000 games where contestant keeps his original guess, and 10000 games where the contestant switches his door after a  goat door is revealed. Compute the percentage of time the contestant wins under either strategy. Is one strategy better than the other?"
   ]
  },
  {
   "cell_type": "code",
   "execution_count": 17,
   "metadata": {
    "collapsed": false
   },
   "outputs": [
    {
     "name": "stdout",
     "output_type": "stream",
     "text": [
      "Win percentage when keeping original door\n",
      "33.43\n",
      "Win percentage when switching doors\n",
      "66.47\n"
     ]
    }
   ],
   "source": [
    "\n",
    "nsim = 10000\n",
    "\n",
    "#keep guesses\n",
    "print \"Win percentage when keeping original door\"\n",
    "print win_percentage(simulate_prizedoor(nsim), simulate_guess(nsim))\n",
    "\n",
    "#switch\n",
    "pd = simulate_prizedoor(nsim)\n",
    "guess = simulate_guess(nsim)\n",
    "goats = goat_door(pd, guess)\n",
    "guess = switch_guess(guess, goats)\n",
    "print \"Win percentage when switching doors\"\n",
    "print win_percentage(pd, guess).mean()"
   ]
  },
  {
   "cell_type": "markdown",
   "metadata": {},
   "source": [
    "Many people find this answer counter-intuitive (famously, PhD mathematicians have incorrectly claimed the result must be wrong. Clearly, none of them knew Python). \n",
    "\n",
    "One of the best ways to build intuition about why opening a Goat door affects the odds is to re-run the experiment with 100 doors and one prize. If the game show host opens 98 goat doors after you make your initial selection, would you want to keep your first pick or switch? Can you generalize your simulation code to handle the case of `n` doors?"
   ]
  },
  {
   "cell_type": "markdown",
   "metadata": {
    "collapsed": true
   },
   "source": [
    "##The workflow for homeworks and labs"
   ]
  },
  {
   "cell_type": "markdown",
   "metadata": {},
   "source": [
    "###getting and working on labs"
   ]
  },
  {
   "cell_type": "markdown",
   "metadata": {},
   "source": [
    "Lets talk a bit about how labs and sections work in this course:\n",
    "\n",
    "1. Lab Notebooks are made available every Thursday evening.\n",
    "2. Lab Videos (which may not cover everything in the notebooks) are made available every Friday as well\n",
    "3. In sections starting Monday morning, and running upto the next Friday, your TA will present part of the lab to you. You ought to have looked at and perhaps tried the lab over the previous weekend, and your section might reach a consensus on what you'd like your TF to focus on: please communicate this.\n",
    "\n",
    "(Sections are 2 hours long. The first hour will be spent going over the lab, while the second if an office hour, where you can ask your TA questions about the homework, the lectures, the subject matter, and even the lab).\n",
    "\n",
    "The labs will be made available on public github repositories, with naming schemes like `cs109/2015lab1`.\n",
    "\n",
    "This is how you ought to work with them (our github tutorial has an example of this process on the `cs109/testing` repository):\n",
    "\n",
    "1. First fork the lab from the github web interface. For example, the first lab is at: https://github.com/cs109/2015lab1 . The fork button is at the upper right corner of the page. Press it.\n",
    "2. When it asks you where to fork the lab, choose your own github userid. The web interface will then take you to the web page for your fork. Mine is at: https://github.com/rahuldave/2015lab1 .\n",
    "3. Now look for the clone url at the bottom right of the page. If you set up your ssh keys, use the ssh url, else use the https url. Mine are `git@github.com:rahuldave/2015lab1.git` and `https://github.com/rahuldave/2015lab1.git` respectively. \n",
    "4. Clone your fork down to your machine by obtaining a terminal (`/Applications/Utilities/Terminal.app` or equivalent on mac and `git-bash.exe` on windows). Change (`cd`) into an appropriate folder and clone by doing `git clone url` where the `url` is the one in step 3.\n",
    "5. Add a remote for the original repository that you forked from. We'll call this remote `course`. The command for this, for example, for the first lab is: `git remote add course git@github.com:cs109/2015lab1.git` or `git remote add course https://github.com/cs109/2015lab1.git`\n",
    "6. Now you have a local repository. Start the ipython notebook in the repository and run the labs. DO NOT run the notebooks ending in `_original.ipynb`. These are simply copies of the labs. We made these copies so that you can update them from our `course` remote in case we make any changes.\n",
    "\n",
    "For Lab 1 I'd start with pythonpandas, followed by babypython, and finally git. The git notebook can be run under the ipython notebook. But the git commands can also be run directly on a terminal, which is probably the best place to do them...you can keep the notebook on the side to read as you follow along). So after once having read the tutorial, as described earlier, you now get to work through it.\n",
    "\n",
    "When you follow along, you can add in your own notes, and try your own variations. As you are doing this, dont forget to continue doing the \"add/commit/push\" cycle, so that you save and version your changes, and push them to your fork. This typically looks like:\n",
    "    - git add .\n",
    "    - git commit -a\n",
    "    - git push\n",
    "    \n",
    "In case we make changes, you can incorporate them into your repo by doing: `git fetch course; git checkout course/master -- labname_original.ipynb` where `labname.ipynb` is the lab in question. An \"add/commit/push\" cycle will make sure these changes go into your fork as well. If you intend to work on the changed file, simply copy the file to another one and work on it. Or you could make a new branch. Remember that this fork is YOUR repository, and you can do to it what you like. \n",
    "\n",
    "The diagram below should help elucidate the above and serve as a command cheat-sheet."
   ]
  },
  {
   "cell_type": "markdown",
   "metadata": {},
   "source": [
    "![homework](cs109gitflow3.png)\n"
   ]
  },
  {
   "cell_type": "markdown",
   "metadata": {},
   "source": [
    "###getting and submitting homework"
   ]
  },
  {
   "cell_type": "markdown",
   "metadata": {},
   "source": [
    "To make `hw0.ipynb` easily accessible, we added it to the public lab repo, so that you can read it even without having a github account. (Otherwise we would have a chicken and egg problem.). This is because our homework repository is private, and we have set it up so that your repositories are private as well.\n",
    "\n",
    "Nevertheless, we want you to get acquainted with the workflow you must execute in order to obtain and submit homeworks. \n",
    "\n",
    "Let me first describe the steps by which you gain access to the homework.\n",
    "\n",
    "1. At the beginning of this document you were asked to obtain a github id and enter it in the mandatory survey. We will use this github id to construct a homework repository for you with read-write access, and give you access to our read-only homework repository. You will be added to a github organization `cs109-students`.\n",
    "2. Our read-only repository is `cs109-students/2015hw`. All students have read-only access to this repository. It will serve the job of the `course` remote, like above. Any changes after the homework has gone out will be made here.\n",
    "3. You will have your own read-write repository under the `cs109-students` organization, which will be of the form `cs109-students/userid-2015hw`. Only you and the cs109 staff have access to this repository, thus ensuring the privacy of your homework.\n",
    "4. When each homework is released, we will create a **branch** on your remote repository, `cs109-students/userid-2015hw`. The branches are, unimaginatively named: `hw0`, `hw1`,...,`hw5`. (For the curious, the way this works is by us creating one remote per student for a local clone of our `cs109-students/2015hw` repository, and pushing the new branch to it. We only push to a new branch each time as we dont want to be messing with a branch you have already worked on.). There is `master` branch too, which will have some instructions, but nothing very exciting. You will never work on this branch.\n",
    "\n",
    "So now, how to you obtain and submit the homework? You wont be forking here.\n",
    "\n",
    "1. You first make a clone of your repository. From the terminal, you issue the command: `git clone git@github.com:cs109-students/userid-2015hw.git` (for ssh users) or `git clone https://github.com/cs109-students/userid-2015hw.git` (for https users). Substitute your own userid for `userid`.\n",
    "2. Next you add a remote `course` to track the read-only \"guru\" repository. The command for this is: `git remote add course git@github.com:cs109-students/2015hw.git` or `git remote add course https://github.com/cs109-students/2015hw.git`. This well help to incorporate any changes, just like above.\n",
    "3. Your clone will come with a `master` branch, and perhaps a `hw0` branch. In either case you should first do `git fetch origin hw0`, which fetches from *your* remote repository on github the `hw0` branch. Then you issue `git checkout -b hw0 origin/hw0`. This command makes a new local branch `hw0` on your machine which tracks the `hw0` branch on your remote.\n",
    "4. You are now in the `hw0` branch. This is where you will work on homework 0. Start the ipython notebook in the repository and run the homework. The file you will use is `hw0.ipynb`. DO NOT run the notebook ending in `_original.ipynb`. These are simply copies of the homework. We made these copies so that you can update them from our `course` remote in case we make any changes. You will now engage in the \"add/commit/push\" cycle as described above. (The `push` will only push to the remote `hw0` branch.)\n",
    "5. We'll grade the last commit you make before the homework deadline. We will be looking for the file `hw0.ipynb`. (In actuality we wont grade homework 0 but check that you submitted it. But we will be using this mechanism to grade the homeworks from homework 1 onwards.)\n",
    "6. When we are ready to send out homework 1 to you, we will create a new branch on your remote repository `git@github.com:cs109-students/userid-2015hw.git` on github with the name `hw1`. You will now repeat the process from step 3 onwards: `git fetch origin hw1` followed by `git checkout -b hw1 origin/hw1`. Then you work on the `hw1` branch, and engage in the \"add/commit/push\" cycle by running `hw1.ipynb`. And so on...\n",
    "\n",
    "Once again, in case we make changes, you can incorporate them into your repo by doing: `git fetch course; git checkout course/hw0 -- hw0_original.ipynb`. An \"add/commit/push\" cycle will make sure these changes go into your fork as well. If you intend to work on the changed file `hw0_original.ipynb`, simply copy the file to `hw0.ipynb` and work on it. \n",
    "\n",
    "Remember that we will be looking for files `hw0.ipynb`, `hw1.ipynb`,...,`hw5.ipynb` as the semester goes on.\n",
    "\n",
    "This process is summarized in the diagram below."
   ]
  },
  {
   "cell_type": "markdown",
   "metadata": {},
   "source": [
    "![homework](cs109gitflow2.png)"
   ]
  }
 ],
 "metadata": {
  "kernelspec": {
   "display_name": "Python 2",
   "language": "python",
   "name": "python2"
  },
  "language_info": {
   "codemirror_mode": {
    "name": "ipython",
    "version": 2
   },
   "file_extension": ".py",
   "mimetype": "text/x-python",
   "name": "python",
   "nbconvert_exporter": "python",
   "pygments_lexer": "ipython2",
   "version": "2.7.10"
  }
 },
 "nbformat": 4,
 "nbformat_minor": 0
}
